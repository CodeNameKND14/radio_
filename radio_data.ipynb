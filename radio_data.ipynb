{
 "cells": [
  {
   "cell_type": "code",
   "execution_count": 1,
   "metadata": {},
   "outputs": [],
   "source": [
    "# import dependencies \n",
    "import pandas as pd \n",
    "import numpy as np\n",
    "import matplotlib.pylab as plt\n",
    "%matplotlib inline\n",
    "from matplotlib.pylab import rcParams\n",
    "rcParams['figure.figsize'] = 10,6\n",
    "# file to load \n",
    "device_category_data = \"Data/d_device_category.csv\"\n",
    "d_genre_data = \"Data/d_genre.csv\"\n",
    "station_genre_data = \"Data/d_station_genre.csv\"\n",
    "station_activity_data = \"Data/f_station_activity.csv\"\n",
    "\n",
    "# read in data files and store in a pandas Data Frame\n",
    "device_category = pd.read_csv(device_category_data)\n",
    "d_genre = pd.read_csv(d_genre_data)\n",
    "station_genre = pd.read_csv(station_genre_data)\n",
    "station_activity = pd.read_csv(station_activity_data)"
   ]
  },
  {
   "cell_type": "code",
   "execution_count": 2,
   "metadata": {},
   "outputs": [
    {
     "data": {
      "text/html": [
       "<div>\n",
       "<style scoped>\n",
       "    .dataframe tbody tr th:only-of-type {\n",
       "        vertical-align: middle;\n",
       "    }\n",
       "\n",
       "    .dataframe tbody tr th {\n",
       "        vertical-align: top;\n",
       "    }\n",
       "\n",
       "    .dataframe thead th {\n",
       "        text-align: right;\n",
       "    }\n",
       "</style>\n",
       "<table border=\"1\" class=\"dataframe\">\n",
       "  <thead>\n",
       "    <tr style=\"text-align: right;\">\n",
       "      <th></th>\n",
       "      <th>device_id</th>\n",
       "      <th>device_category</th>\n",
       "    </tr>\n",
       "  </thead>\n",
       "  <tbody>\n",
       "    <tr>\n",
       "      <th>0</th>\n",
       "      <td>100</td>\n",
       "      <td>Mobile</td>\n",
       "    </tr>\n",
       "    <tr>\n",
       "      <th>1</th>\n",
       "      <td>101</td>\n",
       "      <td>Web</td>\n",
       "    </tr>\n",
       "    <tr>\n",
       "      <th>2</th>\n",
       "      <td>102</td>\n",
       "      <td>Consumer Electronics</td>\n",
       "    </tr>\n",
       "  </tbody>\n",
       "</table>\n",
       "</div>"
      ],
      "text/plain": [
       "   device_id       device_category\n",
       "0        100                Mobile\n",
       "1        101                   Web\n",
       "2        102  Consumer Electronics"
      ]
     },
     "execution_count": 2,
     "metadata": {},
     "output_type": "execute_result"
    }
   ],
   "source": [
    "# visualize the d_device_category data table \n",
    "device_category.head()"
   ]
  },
  {
   "cell_type": "code",
   "execution_count": 3,
   "metadata": {},
   "outputs": [
    {
     "name": "stdout",
     "output_type": "stream",
     "text": [
      "<class 'pandas.core.frame.DataFrame'>\n",
      "RangeIndex: 3 entries, 0 to 2\n",
      "Data columns (total 2 columns):\n",
      "device_id          3 non-null int64\n",
      "device_category    3 non-null object\n",
      "dtypes: int64(1), object(1)\n",
      "memory usage: 176.0+ bytes\n"
     ]
    }
   ],
   "source": [
    "device_category.info()"
   ]
  },
  {
   "cell_type": "code",
   "execution_count": 4,
   "metadata": {},
   "outputs": [
    {
     "data": {
      "text/html": [
       "<div>\n",
       "<style scoped>\n",
       "    .dataframe tbody tr th:only-of-type {\n",
       "        vertical-align: middle;\n",
       "    }\n",
       "\n",
       "    .dataframe tbody tr th {\n",
       "        vertical-align: top;\n",
       "    }\n",
       "\n",
       "    .dataframe thead th {\n",
       "        text-align: right;\n",
       "    }\n",
       "</style>\n",
       "<table border=\"1\" class=\"dataframe\">\n",
       "  <thead>\n",
       "    <tr style=\"text-align: right;\">\n",
       "      <th></th>\n",
       "      <th>genre_id</th>\n",
       "      <th>parent_genre_id</th>\n",
       "      <th>genre_name</th>\n",
       "      <th>lineage</th>\n",
       "      <th>genre_level_1</th>\n",
       "      <th>genre_level_2</th>\n",
       "      <th>genre_level_3</th>\n",
       "    </tr>\n",
       "  </thead>\n",
       "  <tbody>\n",
       "    <tr>\n",
       "      <th>0</th>\n",
       "      <td>5</td>\n",
       "      <td>1</td>\n",
       "      <td>Classical Music</td>\n",
       "      <td>Classical Music/Music</td>\n",
       "      <td>Music</td>\n",
       "      <td>Classical Music</td>\n",
       "      <td>NaN</td>\n",
       "    </tr>\n",
       "    <tr>\n",
       "      <th>1</th>\n",
       "      <td>2091</td>\n",
       "      <td>377</td>\n",
       "      <td>Pac-12 Football</td>\n",
       "      <td>Pac-12/NCAA/Football/Sports</td>\n",
       "      <td>Sports</td>\n",
       "      <td>Football</td>\n",
       "      <td>NCAA</td>\n",
       "    </tr>\n",
       "    <tr>\n",
       "      <th>2</th>\n",
       "      <td>2495</td>\n",
       "      <td>2089</td>\n",
       "      <td>Buffalo Bulls</td>\n",
       "      <td>Buffalo Bulls/MAC/NCAA/Football/Sports</td>\n",
       "      <td>Sports</td>\n",
       "      <td>Football</td>\n",
       "      <td>NCAA</td>\n",
       "    </tr>\n",
       "    <tr>\n",
       "      <th>3</th>\n",
       "      <td>2945</td>\n",
       "      <td>2881</td>\n",
       "      <td>Rocky Mountain Vibes</td>\n",
       "      <td>Rocky Mountain Vibes/Pacific Coast League/Trip...</td>\n",
       "      <td>Sports</td>\n",
       "      <td>Baseball</td>\n",
       "      <td>Minor League</td>\n",
       "    </tr>\n",
       "    <tr>\n",
       "      <th>4</th>\n",
       "      <td>3507</td>\n",
       "      <td>3495</td>\n",
       "      <td>Baltimore Orioles</td>\n",
       "      <td>Baltimore Orioles/AL East/MLB en Español/Baseb...</td>\n",
       "      <td>Sports</td>\n",
       "      <td>Baseball</td>\n",
       "      <td>MLB en Español</td>\n",
       "    </tr>\n",
       "  </tbody>\n",
       "</table>\n",
       "</div>"
      ],
      "text/plain": [
       "   genre_id  parent_genre_id            genre_name  \\\n",
       "0         5                1       Classical Music   \n",
       "1      2091              377       Pac-12 Football   \n",
       "2      2495             2089         Buffalo Bulls   \n",
       "3      2945             2881  Rocky Mountain Vibes   \n",
       "4      3507             3495     Baltimore Orioles   \n",
       "\n",
       "                                             lineage genre_level_1  \\\n",
       "0                              Classical Music/Music         Music   \n",
       "1                        Pac-12/NCAA/Football/Sports        Sports   \n",
       "2             Buffalo Bulls/MAC/NCAA/Football/Sports        Sports   \n",
       "3  Rocky Mountain Vibes/Pacific Coast League/Trip...        Sports   \n",
       "4  Baltimore Orioles/AL East/MLB en Español/Baseb...        Sports   \n",
       "\n",
       "     genre_level_2   genre_level_3  \n",
       "0  Classical Music             NaN  \n",
       "1         Football            NCAA  \n",
       "2         Football            NCAA  \n",
       "3         Baseball    Minor League  \n",
       "4         Baseball  MLB en Español  "
      ]
     },
     "execution_count": 4,
     "metadata": {},
     "output_type": "execute_result"
    }
   ],
   "source": [
    "# visualize the d_genre data \n",
    "d_genre.head()"
   ]
  },
  {
   "cell_type": "code",
   "execution_count": 5,
   "metadata": {},
   "outputs": [
    {
     "name": "stdout",
     "output_type": "stream",
     "text": [
      "<class 'pandas.core.frame.DataFrame'>\n",
      "RangeIndex: 2372 entries, 0 to 2371\n",
      "Data columns (total 7 columns):\n",
      "genre_id           2372 non-null int64\n",
      "parent_genre_id    2372 non-null int64\n",
      "genre_name         2372 non-null object\n",
      "lineage            2372 non-null object\n",
      "genre_level_1      2372 non-null object\n",
      "genre_level_2      2366 non-null object\n",
      "genre_level_3      2263 non-null object\n",
      "dtypes: int64(2), object(5)\n",
      "memory usage: 129.8+ KB\n"
     ]
    }
   ],
   "source": [
    "d_genre.info()"
   ]
  },
  {
   "cell_type": "code",
   "execution_count": 6,
   "metadata": {},
   "outputs": [
    {
     "data": {
      "text/html": [
       "<div>\n",
       "<style scoped>\n",
       "    .dataframe tbody tr th:only-of-type {\n",
       "        vertical-align: middle;\n",
       "    }\n",
       "\n",
       "    .dataframe tbody tr th {\n",
       "        vertical-align: top;\n",
       "    }\n",
       "\n",
       "    .dataframe thead th {\n",
       "        text-align: right;\n",
       "    }\n",
       "</style>\n",
       "<table border=\"1\" class=\"dataframe\">\n",
       "  <thead>\n",
       "    <tr style=\"text-align: right;\">\n",
       "      <th></th>\n",
       "      <th>station_id</th>\n",
       "      <th>genre_id</th>\n",
       "    </tr>\n",
       "  </thead>\n",
       "  <tbody>\n",
       "    <tr>\n",
       "      <th>0</th>\n",
       "      <td>20011</td>\n",
       "      <td>11</td>\n",
       "    </tr>\n",
       "    <tr>\n",
       "      <th>1</th>\n",
       "      <td>20017</td>\n",
       "      <td>5</td>\n",
       "    </tr>\n",
       "    <tr>\n",
       "      <th>2</th>\n",
       "      <td>20059</td>\n",
       "      <td>255</td>\n",
       "    </tr>\n",
       "    <tr>\n",
       "      <th>3</th>\n",
       "      <td>20103</td>\n",
       "      <td>255</td>\n",
       "    </tr>\n",
       "    <tr>\n",
       "      <th>4</th>\n",
       "      <td>20345</td>\n",
       "      <td>63</td>\n",
       "    </tr>\n",
       "  </tbody>\n",
       "</table>\n",
       "</div>"
      ],
      "text/plain": [
       "   station_id  genre_id\n",
       "0       20011        11\n",
       "1       20017         5\n",
       "2       20059       255\n",
       "3       20103       255\n",
       "4       20345        63"
      ]
     },
     "execution_count": 6,
     "metadata": {},
     "output_type": "execute_result"
    }
   ],
   "source": [
    "# visualize the station d_station_genre table \n",
    "station_genre.head()"
   ]
  },
  {
   "cell_type": "code",
   "execution_count": 7,
   "metadata": {},
   "outputs": [
    {
     "name": "stdout",
     "output_type": "stream",
     "text": [
      "<class 'pandas.core.frame.DataFrame'>\n",
      "RangeIndex: 7751 entries, 0 to 7750\n",
      "Data columns (total 2 columns):\n",
      "station_id    7751 non-null int64\n",
      "genre_id      7751 non-null int64\n",
      "dtypes: int64(2)\n",
      "memory usage: 121.2 KB\n"
     ]
    }
   ],
   "source": [
    "station_genre.info()"
   ]
  },
  {
   "cell_type": "code",
   "execution_count": 8,
   "metadata": {},
   "outputs": [
    {
     "data": {
      "text/html": [
       "<div>\n",
       "<style scoped>\n",
       "    .dataframe tbody tr th:only-of-type {\n",
       "        vertical-align: middle;\n",
       "    }\n",
       "\n",
       "    .dataframe tbody tr th {\n",
       "        vertical-align: top;\n",
       "    }\n",
       "\n",
       "    .dataframe thead th {\n",
       "        text-align: right;\n",
       "    }\n",
       "</style>\n",
       "<table border=\"1\" class=\"dataframe\">\n",
       "  <thead>\n",
       "    <tr style=\"text-align: right;\">\n",
       "      <th></th>\n",
       "      <th>activity_date</th>\n",
       "      <th>station_id</th>\n",
       "      <th>device_id</th>\n",
       "      <th>geo</th>\n",
       "      <th>subscription_type</th>\n",
       "      <th>session_starts</th>\n",
       "      <th>listening_hours</th>\n",
       "    </tr>\n",
       "  </thead>\n",
       "  <tbody>\n",
       "    <tr>\n",
       "      <th>0</th>\n",
       "      <td>2015-01-01 00:00:00</td>\n",
       "      <td>20407</td>\n",
       "      <td>101</td>\n",
       "      <td>US</td>\n",
       "      <td>UNKNOWN</td>\n",
       "      <td>446</td>\n",
       "      <td>636.955000</td>\n",
       "    </tr>\n",
       "    <tr>\n",
       "      <th>1</th>\n",
       "      <td>2015-01-01 00:00:00</td>\n",
       "      <td>20407</td>\n",
       "      <td>100</td>\n",
       "      <td>INT</td>\n",
       "      <td>UNKNOWN</td>\n",
       "      <td>63</td>\n",
       "      <td>26.867222</td>\n",
       "    </tr>\n",
       "    <tr>\n",
       "      <th>2</th>\n",
       "      <td>2015-01-01 00:00:00</td>\n",
       "      <td>20407</td>\n",
       "      <td>102</td>\n",
       "      <td>US</td>\n",
       "      <td>UNKNOWN</td>\n",
       "      <td>1203</td>\n",
       "      <td>24.319167</td>\n",
       "    </tr>\n",
       "    <tr>\n",
       "      <th>3</th>\n",
       "      <td>2015-01-01 00:00:00</td>\n",
       "      <td>20407</td>\n",
       "      <td>101</td>\n",
       "      <td>INT</td>\n",
       "      <td>UNKNOWN</td>\n",
       "      <td>4</td>\n",
       "      <td>0.083333</td>\n",
       "    </tr>\n",
       "    <tr>\n",
       "      <th>4</th>\n",
       "      <td>2015-01-01 00:00:00</td>\n",
       "      <td>20407</td>\n",
       "      <td>100</td>\n",
       "      <td>US</td>\n",
       "      <td>UNKNOWN</td>\n",
       "      <td>8245</td>\n",
       "      <td>4783.727500</td>\n",
       "    </tr>\n",
       "  </tbody>\n",
       "</table>\n",
       "</div>"
      ],
      "text/plain": [
       "         activity_date  station_id  device_id  geo subscription_type  \\\n",
       "0  2015-01-01 00:00:00       20407        101   US           UNKNOWN   \n",
       "1  2015-01-01 00:00:00       20407        100  INT           UNKNOWN   \n",
       "2  2015-01-01 00:00:00       20407        102   US           UNKNOWN   \n",
       "3  2015-01-01 00:00:00       20407        101  INT           UNKNOWN   \n",
       "4  2015-01-01 00:00:00       20407        100   US           UNKNOWN   \n",
       "\n",
       "   session_starts  listening_hours  \n",
       "0             446       636.955000  \n",
       "1              63        26.867222  \n",
       "2            1203        24.319167  \n",
       "3               4         0.083333  \n",
       "4            8245      4783.727500  "
      ]
     },
     "execution_count": 8,
     "metadata": {},
     "output_type": "execute_result"
    }
   ],
   "source": [
    "# visualize the f_station_activity table \n",
    "station_activity.head()"
   ]
  },
  {
   "cell_type": "code",
   "execution_count": 9,
   "metadata": {},
   "outputs": [
    {
     "name": "stdout",
     "output_type": "stream",
     "text": [
      "<class 'pandas.core.frame.DataFrame'>\n",
      "RangeIndex: 34584 entries, 0 to 34583\n",
      "Data columns (total 7 columns):\n",
      "activity_date        34584 non-null object\n",
      "station_id           34584 non-null int64\n",
      "device_id            34584 non-null int64\n",
      "geo                  34584 non-null object\n",
      "subscription_type    34584 non-null object\n",
      "session_starts       34584 non-null int64\n",
      "listening_hours      34584 non-null float64\n",
      "dtypes: float64(1), int64(3), object(3)\n",
      "memory usage: 1.8+ MB\n"
     ]
    }
   ],
   "source": [
    "station_activity.info()"
   ]
  },
  {
   "cell_type": "code",
   "execution_count": 10,
   "metadata": {},
   "outputs": [],
   "source": [
    "# join the d_device_category table and f_station_activity table on device_id\n",
    "data_complete_part1 = pd.merge(device_category, station_activity, how=\"left\", on=[\"device_id\"])"
   ]
  },
  {
   "cell_type": "code",
   "execution_count": 11,
   "metadata": {},
   "outputs": [
    {
     "name": "stdout",
     "output_type": "stream",
     "text": [
      "<class 'pandas.core.frame.DataFrame'>\n",
      "Int64Index: 34584 entries, 0 to 34583\n",
      "Data columns (total 8 columns):\n",
      "device_id            34584 non-null int64\n",
      "device_category      34584 non-null object\n",
      "activity_date        34584 non-null object\n",
      "station_id           34584 non-null int64\n",
      "geo                  34584 non-null object\n",
      "subscription_type    34584 non-null object\n",
      "session_starts       34584 non-null int64\n",
      "listening_hours      34584 non-null float64\n",
      "dtypes: float64(1), int64(3), object(4)\n",
      "memory usage: 2.4+ MB\n"
     ]
    }
   ],
   "source": [
    "# check the information of the table \n",
    "data_complete_part1.info()"
   ]
  },
  {
   "cell_type": "code",
   "execution_count": 12,
   "metadata": {},
   "outputs": [],
   "source": [
    "# join the data_complete_part1 table and f_station_genre table on station_id\n",
    "data_complete_part2 = pd.merge(data_complete_part1, station_genre, how=\"left\", on=[\"station_id\"])"
   ]
  },
  {
   "cell_type": "code",
   "execution_count": 13,
   "metadata": {},
   "outputs": [
    {
     "name": "stdout",
     "output_type": "stream",
     "text": [
      "<class 'pandas.core.frame.DataFrame'>\n",
      "Int64Index: 34584 entries, 0 to 34583\n",
      "Data columns (total 9 columns):\n",
      "device_id            34584 non-null int64\n",
      "device_category      34584 non-null object\n",
      "activity_date        34584 non-null object\n",
      "station_id           34584 non-null int64\n",
      "geo                  34584 non-null object\n",
      "subscription_type    34584 non-null object\n",
      "session_starts       34584 non-null int64\n",
      "listening_hours      34584 non-null float64\n",
      "genre_id             34584 non-null int64\n",
      "dtypes: float64(1), int64(4), object(4)\n",
      "memory usage: 2.6+ MB\n"
     ]
    }
   ],
   "source": [
    "# check the information of the table \n",
    "data_complete_part2.info()"
   ]
  },
  {
   "cell_type": "code",
   "execution_count": 14,
   "metadata": {},
   "outputs": [
    {
     "data": {
      "text/plain": [
       "20407    34584\n",
       "Name: station_id, dtype: int64"
      ]
     },
     "execution_count": 14,
     "metadata": {},
     "output_type": "execute_result"
    }
   ],
   "source": [
    "# noticed that there is only one station_id in the f_station_activity table \n",
    "# meaning when combined, the analysis will only be considering listens from station 20407\n",
    "data_complete_part2['station_id'].value_counts()"
   ]
  },
  {
   "cell_type": "code",
   "execution_count": 15,
   "metadata": {},
   "outputs": [],
   "source": [
    "# join the data_complete_part2 table and d_genere table on genre_id \n",
    "data_complete = pd.merge(data_complete_part2, d_genre, how=\"left\", on=[\"genre_id\"])"
   ]
  },
  {
   "cell_type": "code",
   "execution_count": 16,
   "metadata": {},
   "outputs": [
    {
     "name": "stdout",
     "output_type": "stream",
     "text": [
      "<class 'pandas.core.frame.DataFrame'>\n",
      "Int64Index: 34584 entries, 0 to 34583\n",
      "Data columns (total 15 columns):\n",
      "device_id            34584 non-null int64\n",
      "device_category      34584 non-null object\n",
      "activity_date        34584 non-null object\n",
      "station_id           34584 non-null int64\n",
      "geo                  34584 non-null object\n",
      "subscription_type    34584 non-null object\n",
      "session_starts       34584 non-null int64\n",
      "listening_hours      34584 non-null float64\n",
      "genre_id             34584 non-null int64\n",
      "parent_genre_id      34584 non-null int64\n",
      "genre_name           34584 non-null object\n",
      "lineage              34584 non-null object\n",
      "genre_level_1        34584 non-null object\n",
      "genre_level_2        34584 non-null object\n",
      "genre_level_3        34584 non-null object\n",
      "dtypes: float64(1), int64(5), object(9)\n",
      "memory usage: 4.2+ MB\n"
     ]
    }
   ],
   "source": [
    "# check the information of the table \n",
    "data_complete.info()"
   ]
  },
  {
   "cell_type": "code",
   "execution_count": 17,
   "metadata": {},
   "outputs": [],
   "source": [
    "# remove irrelevant tables\n",
    "data_final = data_complete.drop(columns=['device_id','genre_id', \n",
    "                                         'lineage','genre_level_1',\n",
    "                                         'genre_level_2', 'genre_level_3',\n",
    "                                         'parent_genre_id'\n",
    "                                        ])"
   ]
  },
  {
   "cell_type": "code",
   "execution_count": 18,
   "metadata": {},
   "outputs": [
    {
     "data": {
      "text/html": [
       "<div>\n",
       "<style scoped>\n",
       "    .dataframe tbody tr th:only-of-type {\n",
       "        vertical-align: middle;\n",
       "    }\n",
       "\n",
       "    .dataframe tbody tr th {\n",
       "        vertical-align: top;\n",
       "    }\n",
       "\n",
       "    .dataframe thead th {\n",
       "        text-align: right;\n",
       "    }\n",
       "</style>\n",
       "<table border=\"1\" class=\"dataframe\">\n",
       "  <thead>\n",
       "    <tr style=\"text-align: right;\">\n",
       "      <th></th>\n",
       "      <th>device_category</th>\n",
       "      <th>activity_date</th>\n",
       "      <th>station_id</th>\n",
       "      <th>geo</th>\n",
       "      <th>subscription_type</th>\n",
       "      <th>session_starts</th>\n",
       "      <th>listening_hours</th>\n",
       "      <th>genre_name</th>\n",
       "    </tr>\n",
       "  </thead>\n",
       "  <tbody>\n",
       "    <tr>\n",
       "      <th>0</th>\n",
       "      <td>Mobile</td>\n",
       "      <td>2015-01-01 00:00:00</td>\n",
       "      <td>20407</td>\n",
       "      <td>INT</td>\n",
       "      <td>UNKNOWN</td>\n",
       "      <td>63</td>\n",
       "      <td>26.867222</td>\n",
       "      <td>US News</td>\n",
       "    </tr>\n",
       "    <tr>\n",
       "      <th>1</th>\n",
       "      <td>Mobile</td>\n",
       "      <td>2015-01-01 00:00:00</td>\n",
       "      <td>20407</td>\n",
       "      <td>US</td>\n",
       "      <td>UNKNOWN</td>\n",
       "      <td>8245</td>\n",
       "      <td>4783.727500</td>\n",
       "      <td>US News</td>\n",
       "    </tr>\n",
       "    <tr>\n",
       "      <th>2</th>\n",
       "      <td>Mobile</td>\n",
       "      <td>2015-01-02 00:00:00</td>\n",
       "      <td>20407</td>\n",
       "      <td>US</td>\n",
       "      <td>UNKNOWN</td>\n",
       "      <td>12339</td>\n",
       "      <td>7780.206111</td>\n",
       "      <td>US News</td>\n",
       "    </tr>\n",
       "    <tr>\n",
       "      <th>3</th>\n",
       "      <td>Mobile</td>\n",
       "      <td>2015-01-02 00:00:00</td>\n",
       "      <td>20407</td>\n",
       "      <td>INT</td>\n",
       "      <td>UNKNOWN</td>\n",
       "      <td>55</td>\n",
       "      <td>33.442500</td>\n",
       "      <td>US News</td>\n",
       "    </tr>\n",
       "    <tr>\n",
       "      <th>4</th>\n",
       "      <td>Mobile</td>\n",
       "      <td>2015-01-03 00:00:00</td>\n",
       "      <td>20407</td>\n",
       "      <td>INT</td>\n",
       "      <td>UNKNOWN</td>\n",
       "      <td>69</td>\n",
       "      <td>55.539167</td>\n",
       "      <td>US News</td>\n",
       "    </tr>\n",
       "  </tbody>\n",
       "</table>\n",
       "</div>"
      ],
      "text/plain": [
       "  device_category        activity_date  station_id  geo subscription_type  \\\n",
       "0          Mobile  2015-01-01 00:00:00       20407  INT           UNKNOWN   \n",
       "1          Mobile  2015-01-01 00:00:00       20407   US           UNKNOWN   \n",
       "2          Mobile  2015-01-02 00:00:00       20407   US           UNKNOWN   \n",
       "3          Mobile  2015-01-02 00:00:00       20407  INT           UNKNOWN   \n",
       "4          Mobile  2015-01-03 00:00:00       20407  INT           UNKNOWN   \n",
       "\n",
       "   session_starts  listening_hours genre_name  \n",
       "0              63        26.867222    US News  \n",
       "1            8245      4783.727500    US News  \n",
       "2           12339      7780.206111    US News  \n",
       "3              55        33.442500    US News  \n",
       "4              69        55.539167    US News  "
      ]
     },
     "execution_count": 18,
     "metadata": {},
     "output_type": "execute_result"
    }
   ],
   "source": [
    "# visualize final table \n",
    "data_final.head()"
   ]
  },
  {
   "cell_type": "code",
   "execution_count": 19,
   "metadata": {},
   "outputs": [
    {
     "data": {
      "text/plain": [
       "device_category      False\n",
       "activity_date        False\n",
       "station_id           False\n",
       "geo                  False\n",
       "subscription_type    False\n",
       "session_starts       False\n",
       "listening_hours      False\n",
       "genre_name           False\n",
       "dtype: bool"
      ]
     },
     "execution_count": 19,
     "metadata": {},
     "output_type": "execute_result"
    }
   ],
   "source": [
    "# check for null values\n",
    "data_final.isnull().all()"
   ]
  },
  {
   "cell_type": "code",
   "execution_count": 20,
   "metadata": {},
   "outputs": [
    {
     "name": "stdout",
     "output_type": "stream",
     "text": [
      "<class 'pandas.core.frame.DataFrame'>\n",
      "Int64Index: 34584 entries, 0 to 34583\n",
      "Data columns (total 8 columns):\n",
      "device_category      34584 non-null object\n",
      "activity_date        34584 non-null object\n",
      "station_id           34584 non-null int64\n",
      "geo                  34584 non-null object\n",
      "subscription_type    34584 non-null object\n",
      "session_starts       34584 non-null int64\n",
      "listening_hours      34584 non-null float64\n",
      "genre_name           34584 non-null object\n",
      "dtypes: float64(1), int64(2), object(5)\n",
      "memory usage: 2.4+ MB\n"
     ]
    }
   ],
   "source": [
    "# check information of the table \n",
    "data_final.info()"
   ]
  },
  {
   "cell_type": "code",
   "execution_count": 21,
   "metadata": {},
   "outputs": [],
   "source": [
    "# export new dataframe to new csv \n",
    "data_final.to_csv(\"data_final.csv\", index=False)"
   ]
  },
  {
   "cell_type": "code",
   "execution_count": 22,
   "metadata": {},
   "outputs": [],
   "source": [
    "# import dependencies \n",
    "from datetime import datetime"
   ]
  },
  {
   "cell_type": "code",
   "execution_count": 23,
   "metadata": {},
   "outputs": [],
   "source": [
    "# convert the activity_date column to datetime and set it to index so that it is easier to work with\n",
    "data_final['activity_date'] = pd.to_datetime(data_final['activity_date'], infer_datetime_format=True)\n",
    "forecast_ds = data_final.set_index(['activity_date'])"
   ]
  },
  {
   "cell_type": "code",
   "execution_count": 24,
   "metadata": {},
   "outputs": [
    {
     "data": {
      "text/html": [
       "<div>\n",
       "<style scoped>\n",
       "    .dataframe tbody tr th:only-of-type {\n",
       "        vertical-align: middle;\n",
       "    }\n",
       "\n",
       "    .dataframe tbody tr th {\n",
       "        vertical-align: top;\n",
       "    }\n",
       "\n",
       "    .dataframe thead th {\n",
       "        text-align: right;\n",
       "    }\n",
       "</style>\n",
       "<table border=\"1\" class=\"dataframe\">\n",
       "  <thead>\n",
       "    <tr style=\"text-align: right;\">\n",
       "      <th></th>\n",
       "      <th>device_category</th>\n",
       "      <th>station_id</th>\n",
       "      <th>geo</th>\n",
       "      <th>subscription_type</th>\n",
       "      <th>session_starts</th>\n",
       "      <th>listening_hours</th>\n",
       "      <th>genre_name</th>\n",
       "    </tr>\n",
       "    <tr>\n",
       "      <th>activity_date</th>\n",
       "      <th></th>\n",
       "      <th></th>\n",
       "      <th></th>\n",
       "      <th></th>\n",
       "      <th></th>\n",
       "      <th></th>\n",
       "      <th></th>\n",
       "    </tr>\n",
       "  </thead>\n",
       "  <tbody>\n",
       "    <tr>\n",
       "      <th>2015-01-01</th>\n",
       "      <td>Mobile</td>\n",
       "      <td>20407</td>\n",
       "      <td>INT</td>\n",
       "      <td>UNKNOWN</td>\n",
       "      <td>63</td>\n",
       "      <td>26.867222</td>\n",
       "      <td>US News</td>\n",
       "    </tr>\n",
       "    <tr>\n",
       "      <th>2015-01-01</th>\n",
       "      <td>Mobile</td>\n",
       "      <td>20407</td>\n",
       "      <td>US</td>\n",
       "      <td>UNKNOWN</td>\n",
       "      <td>8245</td>\n",
       "      <td>4783.727500</td>\n",
       "      <td>US News</td>\n",
       "    </tr>\n",
       "    <tr>\n",
       "      <th>2015-01-02</th>\n",
       "      <td>Mobile</td>\n",
       "      <td>20407</td>\n",
       "      <td>US</td>\n",
       "      <td>UNKNOWN</td>\n",
       "      <td>12339</td>\n",
       "      <td>7780.206111</td>\n",
       "      <td>US News</td>\n",
       "    </tr>\n",
       "    <tr>\n",
       "      <th>2015-01-02</th>\n",
       "      <td>Mobile</td>\n",
       "      <td>20407</td>\n",
       "      <td>INT</td>\n",
       "      <td>UNKNOWN</td>\n",
       "      <td>55</td>\n",
       "      <td>33.442500</td>\n",
       "      <td>US News</td>\n",
       "    </tr>\n",
       "    <tr>\n",
       "      <th>2015-01-03</th>\n",
       "      <td>Mobile</td>\n",
       "      <td>20407</td>\n",
       "      <td>INT</td>\n",
       "      <td>UNKNOWN</td>\n",
       "      <td>69</td>\n",
       "      <td>55.539167</td>\n",
       "      <td>US News</td>\n",
       "    </tr>\n",
       "  </tbody>\n",
       "</table>\n",
       "</div>"
      ],
      "text/plain": [
       "              device_category  station_id  geo subscription_type  \\\n",
       "activity_date                                                      \n",
       "2015-01-01             Mobile       20407  INT           UNKNOWN   \n",
       "2015-01-01             Mobile       20407   US           UNKNOWN   \n",
       "2015-01-02             Mobile       20407   US           UNKNOWN   \n",
       "2015-01-02             Mobile       20407  INT           UNKNOWN   \n",
       "2015-01-03             Mobile       20407  INT           UNKNOWN   \n",
       "\n",
       "               session_starts  listening_hours genre_name  \n",
       "activity_date                                              \n",
       "2015-01-01                 63        26.867222    US News  \n",
       "2015-01-01               8245      4783.727500    US News  \n",
       "2015-01-02              12339      7780.206111    US News  \n",
       "2015-01-02                 55        33.442500    US News  \n",
       "2015-01-03                 69        55.539167    US News  "
      ]
     },
     "execution_count": 24,
     "metadata": {},
     "output_type": "execute_result"
    }
   ],
   "source": [
    "# visualize the dataframe \n",
    "forecast_ds.head()"
   ]
  },
  {
   "cell_type": "code",
   "execution_count": 25,
   "metadata": {},
   "outputs": [],
   "source": [
    "# remove unwanted columns\n",
    "forecast_ds= forecast_ds.drop(columns=['device_category','station_id', \n",
    "                                         'geo','subscription_type',\n",
    "                                         'session_starts', \n",
    "                                         'genre_name'\n",
    "                                        ])"
   ]
  },
  {
   "cell_type": "code",
   "execution_count": 26,
   "metadata": {},
   "outputs": [
    {
     "data": {
      "text/html": [
       "<div>\n",
       "<style scoped>\n",
       "    .dataframe tbody tr th:only-of-type {\n",
       "        vertical-align: middle;\n",
       "    }\n",
       "\n",
       "    .dataframe tbody tr th {\n",
       "        vertical-align: top;\n",
       "    }\n",
       "\n",
       "    .dataframe thead th {\n",
       "        text-align: right;\n",
       "    }\n",
       "</style>\n",
       "<table border=\"1\" class=\"dataframe\">\n",
       "  <thead>\n",
       "    <tr style=\"text-align: right;\">\n",
       "      <th></th>\n",
       "      <th>listening_hours</th>\n",
       "    </tr>\n",
       "    <tr>\n",
       "      <th>activity_date</th>\n",
       "      <th></th>\n",
       "    </tr>\n",
       "  </thead>\n",
       "  <tbody>\n",
       "    <tr>\n",
       "      <th>2015-01-01</th>\n",
       "      <td>26.867222</td>\n",
       "    </tr>\n",
       "    <tr>\n",
       "      <th>2015-01-01</th>\n",
       "      <td>4783.727500</td>\n",
       "    </tr>\n",
       "    <tr>\n",
       "      <th>2015-01-02</th>\n",
       "      <td>7780.206111</td>\n",
       "    </tr>\n",
       "    <tr>\n",
       "      <th>2015-01-02</th>\n",
       "      <td>33.442500</td>\n",
       "    </tr>\n",
       "    <tr>\n",
       "      <th>2015-01-03</th>\n",
       "      <td>55.539167</td>\n",
       "    </tr>\n",
       "  </tbody>\n",
       "</table>\n",
       "</div>"
      ],
      "text/plain": [
       "               listening_hours\n",
       "activity_date                 \n",
       "2015-01-01           26.867222\n",
       "2015-01-01         4783.727500\n",
       "2015-01-02         7780.206111\n",
       "2015-01-02           33.442500\n",
       "2015-01-03           55.539167"
      ]
     },
     "execution_count": 26,
     "metadata": {},
     "output_type": "execute_result"
    }
   ],
   "source": [
    "# visualize the dataframe \n",
    "forecast_ds.head()"
   ]
  },
  {
   "cell_type": "code",
   "execution_count": 27,
   "metadata": {},
   "outputs": [
    {
     "data": {
      "text/html": [
       "<div>\n",
       "<style scoped>\n",
       "    .dataframe tbody tr th:only-of-type {\n",
       "        vertical-align: middle;\n",
       "    }\n",
       "\n",
       "    .dataframe tbody tr th {\n",
       "        vertical-align: top;\n",
       "    }\n",
       "\n",
       "    .dataframe thead th {\n",
       "        text-align: right;\n",
       "    }\n",
       "</style>\n",
       "<table border=\"1\" class=\"dataframe\">\n",
       "  <thead>\n",
       "    <tr style=\"text-align: right;\">\n",
       "      <th></th>\n",
       "      <th>listening_hours</th>\n",
       "    </tr>\n",
       "    <tr>\n",
       "      <th>activity_date</th>\n",
       "      <th></th>\n",
       "    </tr>\n",
       "  </thead>\n",
       "  <tbody>\n",
       "    <tr>\n",
       "      <th>2015-01-01</th>\n",
       "      <td>5471.952222</td>\n",
       "    </tr>\n",
       "    <tr>\n",
       "      <th>2015-01-02</th>\n",
       "      <td>9806.400833</td>\n",
       "    </tr>\n",
       "    <tr>\n",
       "      <th>2015-01-03</th>\n",
       "      <td>7005.404167</td>\n",
       "    </tr>\n",
       "    <tr>\n",
       "      <th>2015-01-04</th>\n",
       "      <td>6195.495000</td>\n",
       "    </tr>\n",
       "    <tr>\n",
       "      <th>2015-01-05</th>\n",
       "      <td>14989.861389</td>\n",
       "    </tr>\n",
       "    <tr>\n",
       "      <th>...</th>\n",
       "      <td>...</td>\n",
       "    </tr>\n",
       "    <tr>\n",
       "      <th>2020-01-22</th>\n",
       "      <td>171319.796944</td>\n",
       "    </tr>\n",
       "    <tr>\n",
       "      <th>2020-01-23</th>\n",
       "      <td>154938.972500</td>\n",
       "    </tr>\n",
       "    <tr>\n",
       "      <th>2020-01-24</th>\n",
       "      <td>138892.701389</td>\n",
       "    </tr>\n",
       "    <tr>\n",
       "      <th>2020-01-25</th>\n",
       "      <td>91165.945278</td>\n",
       "    </tr>\n",
       "    <tr>\n",
       "      <th>2020-01-26</th>\n",
       "      <td>82141.497500</td>\n",
       "    </tr>\n",
       "  </tbody>\n",
       "</table>\n",
       "<p>1852 rows × 1 columns</p>\n",
       "</div>"
      ],
      "text/plain": [
       "               listening_hours\n",
       "activity_date                 \n",
       "2015-01-01         5471.952222\n",
       "2015-01-02         9806.400833\n",
       "2015-01-03         7005.404167\n",
       "2015-01-04         6195.495000\n",
       "2015-01-05        14989.861389\n",
       "...                        ...\n",
       "2020-01-22       171319.796944\n",
       "2020-01-23       154938.972500\n",
       "2020-01-24       138892.701389\n",
       "2020-01-25        91165.945278\n",
       "2020-01-26        82141.497500\n",
       "\n",
       "[1852 rows x 1 columns]"
      ]
     },
     "execution_count": 27,
     "metadata": {},
     "output_type": "execute_result"
    }
   ],
   "source": [
    "# groupyb the sumof each day\n",
    "forecast_ds = forecast_ds.groupby(['activity_date']).sum()\n",
    "forecast_ds"
   ]
  },
  {
   "cell_type": "code",
   "execution_count": 28,
   "metadata": {},
   "outputs": [
    {
     "data": {
      "text/html": [
       "<div>\n",
       "<style scoped>\n",
       "    .dataframe tbody tr th:only-of-type {\n",
       "        vertical-align: middle;\n",
       "    }\n",
       "\n",
       "    .dataframe tbody tr th {\n",
       "        vertical-align: top;\n",
       "    }\n",
       "\n",
       "    .dataframe thead th {\n",
       "        text-align: right;\n",
       "    }\n",
       "</style>\n",
       "<table border=\"1\" class=\"dataframe\">\n",
       "  <thead>\n",
       "    <tr style=\"text-align: right;\">\n",
       "      <th></th>\n",
       "      <th>listening_hours</th>\n",
       "    </tr>\n",
       "    <tr>\n",
       "      <th>activity_date</th>\n",
       "      <th></th>\n",
       "    </tr>\n",
       "  </thead>\n",
       "  <tbody>\n",
       "    <tr>\n",
       "      <th>2015-01-01</th>\n",
       "      <td>5471.952222</td>\n",
       "    </tr>\n",
       "    <tr>\n",
       "      <th>2015-01-02</th>\n",
       "      <td>9806.400833</td>\n",
       "    </tr>\n",
       "    <tr>\n",
       "      <th>2015-01-03</th>\n",
       "      <td>7005.404167</td>\n",
       "    </tr>\n",
       "    <tr>\n",
       "      <th>2015-01-04</th>\n",
       "      <td>6195.495000</td>\n",
       "    </tr>\n",
       "    <tr>\n",
       "      <th>2015-01-05</th>\n",
       "      <td>14989.861389</td>\n",
       "    </tr>\n",
       "  </tbody>\n",
       "</table>\n",
       "</div>"
      ],
      "text/plain": [
       "               listening_hours\n",
       "activity_date                 \n",
       "2015-01-01         5471.952222\n",
       "2015-01-02         9806.400833\n",
       "2015-01-03         7005.404167\n",
       "2015-01-04         6195.495000\n",
       "2015-01-05        14989.861389"
      ]
     },
     "execution_count": 28,
     "metadata": {},
     "output_type": "execute_result"
    }
   ],
   "source": [
    "# visualize the dataframe \n",
    "forecast_ds.head()"
   ]
  },
  {
   "cell_type": "code",
   "execution_count": 29,
   "metadata": {},
   "outputs": [],
   "source": [
    "# Add another column ticks which makes an alias for the date\n",
    "forecast_ds['Ticks'] = range(0, len(forecast_ds.index.values))"
   ]
  },
  {
   "cell_type": "code",
   "execution_count": 30,
   "metadata": {},
   "outputs": [
    {
     "data": {
      "text/html": [
       "<div>\n",
       "<style scoped>\n",
       "    .dataframe tbody tr th:only-of-type {\n",
       "        vertical-align: middle;\n",
       "    }\n",
       "\n",
       "    .dataframe tbody tr th {\n",
       "        vertical-align: top;\n",
       "    }\n",
       "\n",
       "    .dataframe thead th {\n",
       "        text-align: right;\n",
       "    }\n",
       "</style>\n",
       "<table border=\"1\" class=\"dataframe\">\n",
       "  <thead>\n",
       "    <tr style=\"text-align: right;\">\n",
       "      <th></th>\n",
       "      <th>listening_hours</th>\n",
       "      <th>Ticks</th>\n",
       "    </tr>\n",
       "    <tr>\n",
       "      <th>activity_date</th>\n",
       "      <th></th>\n",
       "      <th></th>\n",
       "    </tr>\n",
       "  </thead>\n",
       "  <tbody>\n",
       "    <tr>\n",
       "      <th>2015-01-01</th>\n",
       "      <td>5471.952222</td>\n",
       "      <td>0</td>\n",
       "    </tr>\n",
       "    <tr>\n",
       "      <th>2015-01-02</th>\n",
       "      <td>9806.400833</td>\n",
       "      <td>1</td>\n",
       "    </tr>\n",
       "    <tr>\n",
       "      <th>2015-01-03</th>\n",
       "      <td>7005.404167</td>\n",
       "      <td>2</td>\n",
       "    </tr>\n",
       "    <tr>\n",
       "      <th>2015-01-04</th>\n",
       "      <td>6195.495000</td>\n",
       "      <td>3</td>\n",
       "    </tr>\n",
       "    <tr>\n",
       "      <th>2015-01-05</th>\n",
       "      <td>14989.861389</td>\n",
       "      <td>4</td>\n",
       "    </tr>\n",
       "  </tbody>\n",
       "</table>\n",
       "</div>"
      ],
      "text/plain": [
       "               listening_hours  Ticks\n",
       "activity_date                        \n",
       "2015-01-01         5471.952222      0\n",
       "2015-01-02         9806.400833      1\n",
       "2015-01-03         7005.404167      2\n",
       "2015-01-04         6195.495000      3\n",
       "2015-01-05        14989.861389      4"
      ]
     },
     "execution_count": 30,
     "metadata": {},
     "output_type": "execute_result"
    }
   ],
   "source": [
    "# visualize the dataframe \n",
    "forecast_ds.head()"
   ]
  },
  {
   "cell_type": "code",
   "execution_count": 31,
   "metadata": {},
   "outputs": [
    {
     "data": {
      "text/plain": [
       "[<matplotlib.lines.Line2D at 0x11aeb84a8>]"
      ]
     },
     "execution_count": 31,
     "metadata": {},
     "output_type": "execute_result"
    },
    {
     "data": {
      "image/png": "[encoded data removed]",
      "text/plain": [
       "<Figure size 432x288 with 1 Axes>"
      ]
     },
     "metadata": {
      "needs_background": "light"
     },
     "output_type": "display_data"
    }
   ],
   "source": [
    "# visualize data \n",
    "fig = plt.figure(1)\n",
    "ax1 = fig.add_subplot(111)\n",
    "ax1.set_xlabel('Ticks')\n",
    "ax1.set_ylabel('Listening Hours')\n",
    "ax1.plot('Ticks', 'listening_hours', data = forecast_ds)"
   ]
  },
  {
   "cell_type": "code",
   "execution_count": 32,
   "metadata": {},
   "outputs": [
    {
     "data": {
      "text/plain": [
       "370.4"
      ]
     },
     "execution_count": 32,
     "metadata": {},
     "output_type": "execute_result"
    }
   ],
   "source": [
    "# for the window\n",
    "len(forecast_ds) /5"
   ]
  },
  {
   "cell_type": "code",
   "execution_count": 33,
   "metadata": {},
   "outputs": [
    {
     "data": {
      "text/html": [
       "<div>\n",
       "<style scoped>\n",
       "    .dataframe tbody tr th:only-of-type {\n",
       "        vertical-align: middle;\n",
       "    }\n",
       "\n",
       "    .dataframe tbody tr th {\n",
       "        vertical-align: top;\n",
       "    }\n",
       "\n",
       "    .dataframe thead th {\n",
       "        text-align: right;\n",
       "    }\n",
       "</style>\n",
       "<table border=\"1\" class=\"dataframe\">\n",
       "  <thead>\n",
       "    <tr style=\"text-align: right;\">\n",
       "      <th></th>\n",
       "      <th>activity_date</th>\n",
       "      <th>listening_hours</th>\n",
       "      <th>Ticks</th>\n",
       "    </tr>\n",
       "  </thead>\n",
       "  <tbody>\n",
       "    <tr>\n",
       "      <th>1847</th>\n",
       "      <td>2020-01-22</td>\n",
       "      <td>171319.796944</td>\n",
       "      <td>1847</td>\n",
       "    </tr>\n",
       "    <tr>\n",
       "      <th>1848</th>\n",
       "      <td>2020-01-23</td>\n",
       "      <td>154938.972500</td>\n",
       "      <td>1848</td>\n",
       "    </tr>\n",
       "    <tr>\n",
       "      <th>1849</th>\n",
       "      <td>2020-01-24</td>\n",
       "      <td>138892.701389</td>\n",
       "      <td>1849</td>\n",
       "    </tr>\n",
       "    <tr>\n",
       "      <th>1850</th>\n",
       "      <td>2020-01-25</td>\n",
       "      <td>91165.945278</td>\n",
       "      <td>1850</td>\n",
       "    </tr>\n",
       "    <tr>\n",
       "      <th>1851</th>\n",
       "      <td>2020-01-26</td>\n",
       "      <td>82141.497500</td>\n",
       "      <td>1851</td>\n",
       "    </tr>\n",
       "  </tbody>\n",
       "</table>\n",
       "</div>"
      ],
      "text/plain": [
       "     activity_date  listening_hours  Ticks\n",
       "1847    2020-01-22    171319.796944   1847\n",
       "1848    2020-01-23    154938.972500   1848\n",
       "1849    2020-01-24    138892.701389   1849\n",
       "1850    2020-01-25     91165.945278   1850\n",
       "1851    2020-01-26     82141.497500   1851"
      ]
     },
     "execution_count": 33,
     "metadata": {},
     "output_type": "execute_result"
    }
   ],
   "source": [
    "# reset the index\n",
    "forecast_ds = forecast_ds.reset_index()\n",
    "forecast_ds.tail()\n"
   ]
  },
  {
   "cell_type": "code",
   "execution_count": 34,
   "metadata": {},
   "outputs": [],
   "source": [
    "# create a rolling mean column\n",
    "forecast_ds['Rolling_Mean'] = forecast_ds['listening_hours'].rolling(window = 370).mean()"
   ]
  },
  {
   "cell_type": "code",
   "execution_count": 35,
   "metadata": {},
   "outputs": [
    {
     "data": {
      "text/html": [
       "<div>\n",
       "<style scoped>\n",
       "    .dataframe tbody tr th:only-of-type {\n",
       "        vertical-align: middle;\n",
       "    }\n",
       "\n",
       "    .dataframe tbody tr th {\n",
       "        vertical-align: top;\n",
       "    }\n",
       "\n",
       "    .dataframe thead th {\n",
       "        text-align: right;\n",
       "    }\n",
       "</style>\n",
       "<table border=\"1\" class=\"dataframe\">\n",
       "  <thead>\n",
       "    <tr style=\"text-align: right;\">\n",
       "      <th></th>\n",
       "      <th>activity_date</th>\n",
       "      <th>listening_hours</th>\n",
       "      <th>Ticks</th>\n",
       "      <th>Rolling_Mean</th>\n",
       "    </tr>\n",
       "  </thead>\n",
       "  <tbody>\n",
       "    <tr>\n",
       "      <th>0</th>\n",
       "      <td>2015-01-01</td>\n",
       "      <td>5471.952222</td>\n",
       "      <td>0</td>\n",
       "      <td>NaN</td>\n",
       "    </tr>\n",
       "    <tr>\n",
       "      <th>1</th>\n",
       "      <td>2015-01-02</td>\n",
       "      <td>9806.400833</td>\n",
       "      <td>1</td>\n",
       "      <td>NaN</td>\n",
       "    </tr>\n",
       "    <tr>\n",
       "      <th>2</th>\n",
       "      <td>2015-01-03</td>\n",
       "      <td>7005.404167</td>\n",
       "      <td>2</td>\n",
       "      <td>NaN</td>\n",
       "    </tr>\n",
       "    <tr>\n",
       "      <th>3</th>\n",
       "      <td>2015-01-04</td>\n",
       "      <td>6195.495000</td>\n",
       "      <td>3</td>\n",
       "      <td>NaN</td>\n",
       "    </tr>\n",
       "    <tr>\n",
       "      <th>4</th>\n",
       "      <td>2015-01-05</td>\n",
       "      <td>14989.861389</td>\n",
       "      <td>4</td>\n",
       "      <td>NaN</td>\n",
       "    </tr>\n",
       "  </tbody>\n",
       "</table>\n",
       "</div>"
      ],
      "text/plain": [
       "  activity_date  listening_hours  Ticks  Rolling_Mean\n",
       "0    2015-01-01      5471.952222      0           NaN\n",
       "1    2015-01-02      9806.400833      1           NaN\n",
       "2    2015-01-03      7005.404167      2           NaN\n",
       "3    2015-01-04      6195.495000      3           NaN\n",
       "4    2015-01-05     14989.861389      4           NaN"
      ]
     },
     "execution_count": 35,
     "metadata": {},
     "output_type": "execute_result"
    }
   ],
   "source": [
    "# visualize the dataframe \n",
    "forecast_ds.head()"
   ]
  },
  {
   "cell_type": "code",
   "execution_count": 36,
   "metadata": {},
   "outputs": [
    {
     "data": {
      "text/plain": [
       "[<matplotlib.lines.Line2D at 0x11c0815c0>]"
      ]
     },
     "execution_count": 36,
     "metadata": {},
     "output_type": "execute_result"
    },
    {
     "data": {
      "image/png": "[encoded data removed]",
      "text/plain": [
       "<Figure size 432x288 with 1 Axes>"
      ]
     },
     "metadata": {
      "needs_background": "light"
     },
     "output_type": "display_data"
    }
   ],
   "source": [
    "# visualize rolling mean data. Rolling mean got rid of outliers.\n",
    "fig = plt.figure(1)\n",
    "ax1 = fig.add_subplot(111)\n",
    "ax1.set_xlabel('Ticks')\n",
    "ax1.set_ylabel('Smooth(Rolling Mean)')\n",
    "ax1.plot('Ticks', 'Rolling_Mean', data = forecast_ds)"
   ]
  },
  {
   "cell_type": "code",
   "execution_count": 37,
   "metadata": {},
   "outputs": [
    {
     "name": "stderr",
     "output_type": "stream",
     "text": [
      "/anaconda3/lib/python3.7/site-packages/pandas/plotting/_matplotlib/converter.py:103: FutureWarning: Using an implicitly registered datetime converter for a matplotlib plotting method. The converter was registered by pandas on import. Future versions of pandas will require you to explicitly register matplotlib converters.\n",
      "\n",
      "To register the converters:\n",
      "\t>>> from pandas.plotting import register_matplotlib_converters\n",
      "\t>>> register_matplotlib_converters()\n",
      "  warnings.warn(msg, FutureWarning)\n"
     ]
    },
    {
     "data": {
      "text/plain": [
       "<matplotlib.legend.Legend at 0x11f3501d0>"
      ]
     },
     "execution_count": 37,
     "metadata": {},
     "output_type": "execute_result"
    },
    {
     "data": {
      "image/png": "[encoded data removed]",
      "text/plain": [
       "<Figure size 432x288 with 1 Axes>"
      ]
     },
     "metadata": {
      "needs_background": "light"
     },
     "output_type": "display_data"
    }
   ],
   "source": [
    "# visualize and compare original data vs rolling mean data\n",
    "fig = plt.figure();\n",
    "ax = fig.add_subplot(111);\n",
    "ax.plot(forecast_ds['activity_date'], forecast_ds['listening_hours'], color='red', label = 'Original')\n",
    "ax.plot(forecast_ds['activity_date'], forecast_ds['Rolling_Mean'], color='blue',linewidth = 2, alpha =.9, label = 'Smoother')\n",
    "ax.set_xlabel('Date')\n",
    "ax.set_ylabel('Listners')\n",
    "ax.set_title('Original and Smoothed Price')\n",
    "ax.legend(loc='best')"
   ]
  },
  {
   "cell_type": "code",
   "execution_count": 38,
   "metadata": {},
   "outputs": [],
   "source": [
    "# import dependencies \n",
    "from sklearn.linear_model import LinearRegression"
   ]
  },
  {
   "cell_type": "code",
   "execution_count": 39,
   "metadata": {},
   "outputs": [],
   "source": [
    "# filter data for model\n",
    "filt_forecast = forecast_ds[forecast_ds['Ticks']>= 372]"
   ]
  },
  {
   "cell_type": "code",
   "execution_count": 40,
   "metadata": {},
   "outputs": [
    {
     "name": "stdout",
     "output_type": "stream",
     "text": [
      "equation: y = 43.32x + 22888.64\n"
     ]
    }
   ],
   "source": [
    "# use LinearRegression() to create a model\n",
    "model =LinearRegression().fit(filt_forecast[['Ticks']], filt_forecast['Rolling_Mean'])\n",
    "\n",
    "m = model.coef_[0]\n",
    "b = model.intercept_\n",
    "\n",
    "print(f\"equation: y = {round(m,2)}x + {round(b,2)}\")"
   ]
  },
  {
   "cell_type": "code",
   "execution_count": 41,
   "metadata": {},
   "outputs": [
    {
     "data": {
      "text/plain": [
       "array([39003.46264253, 39046.78206474, 39090.10148695, 39133.42090916,\n",
       "       39176.74033138, 39220.05975359, 39263.3791758 , 39306.69859801,\n",
       "       39350.01802023, 39393.33744244])"
      ]
     },
     "execution_count": 41,
     "metadata": {},
     "output_type": "execute_result"
    }
   ],
   "source": [
    "# make predictions based on the model \n",
    "predictions = model.predict(filt_forecast[['Ticks']])\n",
    "predictions[0:10]"
   ]
  },
  {
   "cell_type": "code",
   "execution_count": 42,
   "metadata": {},
   "outputs": [
    {
     "data": {
      "text/html": [
       "<div>\n",
       "<style scoped>\n",
       "    .dataframe tbody tr th:only-of-type {\n",
       "        vertical-align: middle;\n",
       "    }\n",
       "\n",
       "    .dataframe tbody tr th {\n",
       "        vertical-align: top;\n",
       "    }\n",
       "\n",
       "    .dataframe thead th {\n",
       "        text-align: right;\n",
       "    }\n",
       "</style>\n",
       "<table border=\"1\" class=\"dataframe\">\n",
       "  <thead>\n",
       "    <tr style=\"text-align: right;\">\n",
       "      <th></th>\n",
       "      <th>Prediction</th>\n",
       "    </tr>\n",
       "  </thead>\n",
       "  <tbody>\n",
       "    <tr>\n",
       "      <th>372</th>\n",
       "      <td>39003.462643</td>\n",
       "    </tr>\n",
       "    <tr>\n",
       "      <th>373</th>\n",
       "      <td>39046.782065</td>\n",
       "    </tr>\n",
       "    <tr>\n",
       "      <th>374</th>\n",
       "      <td>39090.101487</td>\n",
       "    </tr>\n",
       "    <tr>\n",
       "      <th>375</th>\n",
       "      <td>39133.420909</td>\n",
       "    </tr>\n",
       "    <tr>\n",
       "      <th>376</th>\n",
       "      <td>39176.740331</td>\n",
       "    </tr>\n",
       "  </tbody>\n",
       "</table>\n",
       "</div>"
      ],
      "text/plain": [
       "       Prediction\n",
       "372  39003.462643\n",
       "373  39046.782065\n",
       "374  39090.101487\n",
       "375  39133.420909\n",
       "376  39176.740331"
      ]
     },
     "execution_count": 42,
     "metadata": {},
     "output_type": "execute_result"
    }
   ],
   "source": [
    "# visualize the dataframe \n",
    "predictions = pd.DataFrame(data = predictions, index = filt_forecast.index.values, columns = ['Prediction'])\n",
    "\n",
    "predictions.head()"
   ]
  },
  {
   "cell_type": "code",
   "execution_count": 43,
   "metadata": {},
   "outputs": [
    {
     "data": {
      "text/html": [
       "<div>\n",
       "<style scoped>\n",
       "    .dataframe tbody tr th:only-of-type {\n",
       "        vertical-align: middle;\n",
       "    }\n",
       "\n",
       "    .dataframe tbody tr th {\n",
       "        vertical-align: top;\n",
       "    }\n",
       "\n",
       "    .dataframe thead th {\n",
       "        text-align: right;\n",
       "    }\n",
       "</style>\n",
       "<table border=\"1\" class=\"dataframe\">\n",
       "  <thead>\n",
       "    <tr style=\"text-align: right;\">\n",
       "      <th></th>\n",
       "      <th>activity_date</th>\n",
       "      <th>listening_hours</th>\n",
       "      <th>Ticks</th>\n",
       "      <th>Rolling_Mean</th>\n",
       "      <th>Prediction</th>\n",
       "    </tr>\n",
       "  </thead>\n",
       "  <tbody>\n",
       "    <tr>\n",
       "      <th>372</th>\n",
       "      <td>2016-01-08</td>\n",
       "      <td>40527.506389</td>\n",
       "      <td>372</td>\n",
       "      <td>23331.780360</td>\n",
       "      <td>39003.462643</td>\n",
       "    </tr>\n",
       "    <tr>\n",
       "      <th>373</th>\n",
       "      <td>2016-01-09</td>\n",
       "      <td>17192.543056</td>\n",
       "      <td>373</td>\n",
       "      <td>23361.502112</td>\n",
       "      <td>39046.782065</td>\n",
       "    </tr>\n",
       "    <tr>\n",
       "      <th>374</th>\n",
       "      <td>2016-01-10</td>\n",
       "      <td>15281.781667</td>\n",
       "      <td>374</td>\n",
       "      <td>23362.291086</td>\n",
       "      <td>39090.101487</td>\n",
       "    </tr>\n",
       "    <tr>\n",
       "      <th>375</th>\n",
       "      <td>2016-01-11</td>\n",
       "      <td>32894.487500</td>\n",
       "      <td>375</td>\n",
       "      <td>23411.681002</td>\n",
       "      <td>39133.420909</td>\n",
       "    </tr>\n",
       "    <tr>\n",
       "      <th>376</th>\n",
       "      <td>2016-01-12</td>\n",
       "      <td>65614.534444</td>\n",
       "      <td>376</td>\n",
       "      <td>23524.275326</td>\n",
       "      <td>39176.740331</td>\n",
       "    </tr>\n",
       "  </tbody>\n",
       "</table>\n",
       "</div>"
      ],
      "text/plain": [
       "    activity_date  listening_hours  Ticks  Rolling_Mean    Prediction\n",
       "372    2016-01-08     40527.506389    372  23331.780360  39003.462643\n",
       "373    2016-01-09     17192.543056    373  23361.502112  39046.782065\n",
       "374    2016-01-10     15281.781667    374  23362.291086  39090.101487\n",
       "375    2016-01-11     32894.487500    375  23411.681002  39133.420909\n",
       "376    2016-01-12     65614.534444    376  23524.275326  39176.740331"
      ]
     },
     "execution_count": 43,
     "metadata": {},
     "output_type": "execute_result"
    }
   ],
   "source": [
    "# join the predictions to the original data frame\n",
    "forecast_join = filt_forecast.join(predictions, how='inner')\n",
    "forecast_join.head()"
   ]
  },
  {
   "cell_type": "code",
   "execution_count": 44,
   "metadata": {},
   "outputs": [
    {
     "data": {
      "text/plain": [
       "<matplotlib.legend.Legend at 0x1a22644fd0>"
      ]
     },
     "execution_count": 44,
     "metadata": {},
     "output_type": "execute_result"
    },
    {
     "data": {
      "image/png": "[encoded data removed]",
      "text/plain": [
       "<Figure size 432x288 with 1 Axes>"
      ]
     },
     "metadata": {
      "needs_background": "light"
     },
     "output_type": "display_data"
    }
   ],
   "source": [
    "# visualize the trend line from  linear equation\n",
    "fig = plt.figure()\n",
    "ax = fig.add_subplot(111)\n",
    "ax.plot(forecast_join['Ticks'], forecast_join['Rolling_Mean'], color='blue', linewidth = 2, alpha =.9, label ='Smoothed')\n",
    "ax.plot(forecast_join['Ticks'], forecast_join['Prediction'], color ='red', label='Prediction')\n",
    "ax.set_title('Rolling Mean vs Linear Regression Predictions')\n",
    "ax.set_xlabel('Ticks')\n",
    "ax.set_ylabel('Listen Hours')\n",
    "ax.legend(loc='best')"
   ]
  },
  {
   "cell_type": "code",
   "execution_count": 45,
   "metadata": {},
   "outputs": [
    {
     "name": "stdout",
     "output_type": "stream",
     "text": [
      "84.11 %\n"
     ]
    }
   ],
   "source": [
    "# display the r squared value\n",
    "import sklearn\n",
    "r_squared = sklearn.metrics.r2_score(forecast_join['Rolling_Mean'], forecast_join['Prediction'])\n",
    "print(round((r_squared * 100),2),\"%\")"
   ]
  }
 ],
 "metadata": {
  "kernelspec": {
   "display_name": "Python 3",
   "language": "python",
   "name": "python3"
  },
  "language_info": {
   "codemirror_mode": {
    "name": "ipython",
    "version": 3
   },
   "file_extension": ".py",
   "mimetype": "text/x-python",
   "name": "python",
   "nbconvert_exporter": "python",
   "pygments_lexer": "ipython3",
   "version": "3.7.1"
  }
 },
 "nbformat": 4,
 "nbformat_minor": 2
}
